{
 "cells": [
  {
   "cell_type": "code",
   "execution_count": 1,
   "id": "7c3fef3c-f8ef-481e-8d28-3443f2a4f2e5",
   "metadata": {},
   "outputs": [],
   "source": [
    "import warnings\n",
    "warnings.filterwarnings(\"ignore\")"
   ]
  },
  {
   "cell_type": "code",
   "execution_count": 2,
   "id": "17caf341-c07c-4c40-877d-3e18eae13470",
   "metadata": {},
   "outputs": [],
   "source": [
    "import findspark\n",
    "findspark.init(\"/home/rajdeep/spark-3.5.0-bin-hadoop3\")"
   ]
  },
  {
   "cell_type": "code",
   "execution_count": 3,
   "id": "3c724697-18b5-4406-9c9d-09afe6a9df9a",
   "metadata": {},
   "outputs": [],
   "source": [
    "from pyspark.sql import SparkSession\n",
    "from pyspark.ml.linalg import Vector\n",
    "from pyspark.ml.feature import StringIndexer, VectorAssembler\n",
    "from pyspark.ml.regression import LinearRegression\n",
    "from pyspark.sql.functions import corr"
   ]
  },
  {
   "cell_type": "code",
   "execution_count": 4,
   "id": "39cd7a3d-8d5e-4352-bf85-9c146512d7fa",
   "metadata": {},
   "outputs": [
    {
     "name": "stderr",
     "output_type": "stream",
     "text": [
      "23/11/21 15:48:12 WARN Utils: Your hostname, DESKTOP-CSFBOLK resolves to a loopback address: 127.0.1.1; using 172.19.12.103 instead (on interface eth0)\n",
      "23/11/21 15:48:12 WARN Utils: Set SPARK_LOCAL_IP if you need to bind to another address\n",
      "Setting default log level to \"WARN\".\n",
      "To adjust logging level use sc.setLogLevel(newLevel). For SparkR, use setLogLevel(newLevel).\n",
      "23/11/21 15:48:14 WARN NativeCodeLoader: Unable to load native-hadoop library for your platform... using builtin-java classes where applicable\n"
     ]
    }
   ],
   "source": [
    "# initializing the spark object\n",
    "spark = SparkSession.builder.appName(\"cruise\").getOrCreate()"
   ]
  },
  {
   "cell_type": "code",
   "execution_count": 5,
   "id": "1d6ca248-7955-400c-aded-a1fe848719a0",
   "metadata": {},
   "outputs": [
    {
     "name": "stderr",
     "output_type": "stream",
     "text": [
      "                                                                                \r"
     ]
    }
   ],
   "source": [
    "#reading the data into dataframe\n",
    "df = spark.read.csv(\"data/cruise_ship_info.csv\", inferSchema=True, header=True)"
   ]
  },
  {
   "cell_type": "code",
   "execution_count": 6,
   "id": "112b8389-d445-4e33-a67e-ec3b619d440f",
   "metadata": {},
   "outputs": [],
   "source": [
    "#initalizing the stringIndexer function\n",
    "indexer = StringIndexer(inputCol=\"Cruise_line\", outputCol=\"Cruise_line_indexed\")"
   ]
  },
  {
   "cell_type": "code",
   "execution_count": 7,
   "id": "96d0654f-dc8b-41c6-9806-e66caf41f333",
   "metadata": {},
   "outputs": [
    {
     "name": "stderr",
     "output_type": "stream",
     "text": [
      "                                                                                \r"
     ]
    }
   ],
   "source": [
    "#transform the stringColumn to Integer value\n",
    "indexer_model = indexer.fit(df)\n",
    "df = indexer_model.transform(df)"
   ]
  },
  {
   "cell_type": "code",
   "execution_count": null,
   "id": "e34a8f2b-e169-4fa9-970a-39b947ed0405",
   "metadata": {},
   "outputs": [],
   "source": []
  },
  {
   "cell_type": "code",
   "execution_count": 8,
   "id": "fe50ace0-82fc-41da-a1d1-ffd4231dccfd",
   "metadata": {},
   "outputs": [
    {
     "name": "stdout",
     "output_type": "stream",
     "text": [
      "+-----------+-----------+---+------------------+----------+------+------+-----------------+----+-------------------+\n",
      "|  Ship_name|Cruise_line|Age|           Tonnage|passengers|length|cabins|passenger_density|crew|Cruise_line_indexed|\n",
      "+-----------+-----------+---+------------------+----------+------+------+-----------------+----+-------------------+\n",
      "|    Journey|    Azamara|  6|30.276999999999997|      6.94|  5.94|  3.55|            42.64|3.55|               16.0|\n",
      "|      Quest|    Azamara|  6|30.276999999999997|      6.94|  5.94|  3.55|            42.64|3.55|               16.0|\n",
      "|Celebration|   Carnival| 26|            47.262|     14.86|  7.22|  7.43|             31.8| 6.7|                1.0|\n",
      "|   Conquest|   Carnival| 11|             110.0|     29.74|  9.53| 14.88|            36.99|19.1|                1.0|\n",
      "|    Destiny|   Carnival| 17|           101.353|     26.42|  8.92| 13.21|            38.36|10.0|                1.0|\n",
      "|    Ecstasy|   Carnival| 22|            70.367|     20.52|  8.55|  10.2|            34.29| 9.2|                1.0|\n",
      "|    Elation|   Carnival| 15|            70.367|     20.52|  8.55|  10.2|            34.29| 9.2|                1.0|\n",
      "|    Fantasy|   Carnival| 23|            70.367|     20.56|  8.55| 10.22|            34.23| 9.2|                1.0|\n",
      "|Fascination|   Carnival| 19|            70.367|     20.52|  8.55|  10.2|            34.29| 9.2|                1.0|\n",
      "|    Freedom|   Carnival|  6|110.23899999999999|      37.0|  9.51| 14.87|            29.79|11.5|                1.0|\n",
      "|      Glory|   Carnival| 10|             110.0|     29.74|  9.51| 14.87|            36.99|11.6|                1.0|\n",
      "|    Holiday|   Carnival| 28|            46.052|     14.52|  7.27|  7.26|            31.72| 6.6|                1.0|\n",
      "|Imagination|   Carnival| 18|            70.367|     20.52|  8.55|  10.2|            34.29| 9.2|                1.0|\n",
      "|Inspiration|   Carnival| 17|            70.367|     20.52|  8.55|  10.2|            34.29| 9.2|                1.0|\n",
      "|     Legend|   Carnival| 11|              86.0|     21.24|  9.63| 10.62|            40.49| 9.3|                1.0|\n",
      "|   Liberty*|   Carnival|  8|             110.0|     29.74|  9.51| 14.87|            36.99|11.6|                1.0|\n",
      "|    Miracle|   Carnival|  9|              88.5|     21.24|  9.63| 10.62|            41.67|10.3|                1.0|\n",
      "|   Paradise|   Carnival| 15|            70.367|     20.52|  8.55|  10.2|            34.29| 9.2|                1.0|\n",
      "|      Pride|   Carnival| 12|              88.5|     21.24|  9.63| 11.62|            41.67| 9.3|                1.0|\n",
      "|  Sensation|   Carnival| 20|            70.367|     20.52|  8.55|  10.2|            34.29| 9.2|                1.0|\n",
      "+-----------+-----------+---+------------------+----------+------+------+-----------------+----+-------------------+\n",
      "only showing top 20 rows\n",
      "\n"
     ]
    }
   ],
   "source": [
    "df.show()"
   ]
  },
  {
   "cell_type": "code",
   "execution_count": 9,
   "id": "e9f7e00c-b4da-477f-a323-c306ea715f92",
   "metadata": {},
   "outputs": [],
   "source": [
    "#initializing the vectorassmbler to create a vector of all the features\n",
    "assembler = VectorAssembler(inputCols=['Age', 'Tonnage','passengers', 'length','cabins','passenger_density','Cruise_line_indexed'], outputCol=\"features\")"
   ]
  },
  {
   "cell_type": "code",
   "execution_count": 10,
   "id": "a56b804b-e296-48c5-863d-0820c82ca580",
   "metadata": {},
   "outputs": [],
   "source": [
    "#adding the vector column\n",
    "df = assembler.transform(df)"
   ]
  },
  {
   "cell_type": "code",
   "execution_count": 11,
   "id": "c63c2c8c-e44e-421c-8ee0-12fdde73b2ad",
   "metadata": {},
   "outputs": [],
   "source": [
    "#splitting the data into train test dataset\n",
    "train_df , test_df = df.randomSplit([0.7,0.3])"
   ]
  },
  {
   "cell_type": "code",
   "execution_count": null,
   "id": "bf765b4f-daaa-483d-b453-5b08c0b70eaf",
   "metadata": {},
   "outputs": [],
   "source": []
  },
  {
   "cell_type": "code",
   "execution_count": 12,
   "id": "6ffad6b3-dc4e-420d-a5f1-b4559032be19",
   "metadata": {},
   "outputs": [],
   "source": [
    "#initializing the linear regressor\n",
    "lr = LinearRegression(featuresCol = 'features', labelCol = 'crew')"
   ]
  },
  {
   "cell_type": "code",
   "execution_count": 13,
   "id": "79497473-7c91-44a1-9ed3-ebb4b76dbc4b",
   "metadata": {},
   "outputs": [
    {
     "name": "stderr",
     "output_type": "stream",
     "text": [
      "23/11/21 15:48:28 WARN Instrumentation: [acfd7912] regParam is zero, which might cause numerical instability and overfitting.\n",
      "23/11/21 15:48:29 WARN InstanceBuilder: Failed to load implementation from:dev.ludovic.netlib.blas.JNIBLAS\n",
      "23/11/21 15:48:29 WARN InstanceBuilder: Failed to load implementation from:dev.ludovic.netlib.lapack.JNILAPACK\n"
     ]
    }
   ],
   "source": [
    "#training the regressor model\n",
    "lr_model = lr.fit(train_df)"
   ]
  },
  {
   "cell_type": "code",
   "execution_count": 14,
   "id": "067436ed-ee26-461c-a91f-6593fc15c03e",
   "metadata": {},
   "outputs": [],
   "source": [
    "#evaluating the regressor model\n",
    "test_df_evaluation = lr_model.evaluate(test_df)"
   ]
  },
  {
   "cell_type": "code",
   "execution_count": 15,
   "id": "26e772c7-b2d1-4bb1-9f74-80f41bb62ad6",
   "metadata": {},
   "outputs": [
    {
     "data": {
      "text/plain": [
       "0.9339140276045034"
      ]
     },
     "execution_count": 15,
     "metadata": {},
     "output_type": "execute_result"
    }
   ],
   "source": [
    "#r2 score of the LR model\n",
    "test_df_evaluation.r2"
   ]
  },
  {
   "cell_type": "code",
   "execution_count": 16,
   "id": "e697b4b2-7ca6-42e3-b133-edf18ad94e0e",
   "metadata": {},
   "outputs": [
    {
     "data": {
      "text/plain": [
       "0.8447501462733567"
      ]
     },
     "execution_count": 16,
     "metadata": {},
     "output_type": "execute_result"
    }
   ],
   "source": [
    "#rmse score of the LR model\n",
    "test_df_evaluation.rootMeanSquaredError"
   ]
  },
  {
   "cell_type": "code",
   "execution_count": 17,
   "id": "f3996446-e32b-4dcd-89c7-5675bf3d3e35",
   "metadata": {},
   "outputs": [],
   "source": [
    "#creating new df with only features vector\n",
    "unlabelled_df = test_df.select('features')"
   ]
  },
  {
   "cell_type": "code",
   "execution_count": 18,
   "id": "8dc37d03-7f1d-4785-8bc3-3aba05177a19",
   "metadata": {},
   "outputs": [],
   "source": [
    "#predicting the value using lr model\n",
    "unlabelled_df = lr_model.transform(unlabelled_df)"
   ]
  },
  {
   "cell_type": "code",
   "execution_count": 19,
   "id": "a78be39f-aeb6-415b-a6f2-c4e3af9793c7",
   "metadata": {},
   "outputs": [
    {
     "name": "stdout",
     "output_type": "stream",
     "text": [
      "+--------------------+------------------+\n",
      "|            features|        prediction|\n",
      "+--------------------+------------------+\n",
      "|[13.0,85.619,21.1...| 9.625230330688474|\n",
      "|[13.0,76.0,18.74,...| 8.669005389476522|\n",
      "|[11.0,90.09,25.01...| 8.938538854192563|\n",
      "|[18.0,70.60600000...| 7.904913542981781|\n",
      "|[19.0,16.8,2.96,5...|2.2044856380660987|\n",
      "|[17.0,101.353,26....|11.026442896496622|\n",
      "|[21.0,50.76,17.48...| 7.254315271407881|\n",
      "|[22.0,70.367,20.5...| 8.669684804369586|\n",
      "|[6.0,113.0,37.82,...|11.664243331881217|\n",
      "|[13.0,138.0,31.14...|13.412728346575019|\n",
      "|[5.0,133.5,39.59,...|13.079705479342044|\n",
      "|[23.0,70.367,20.5...| 8.681667502147828|\n",
      "|[19.0,70.367,20.5...|  8.66501421962333|\n",
      "|[21.0,19.093,8.0,...|  3.51521070178524|\n",
      "|[12.0,108.865,27....|11.038568580715275|\n",
      "|[17.0,74.137,19.5...| 8.701772878115438|\n",
      "|[5.0,160.0,36.34,...|15.518199687398504|\n",
      "|[12.0,91.0,20.32,...|  9.24424435277722|\n",
      "|[15.0,30.27699999...|3.7744357289072874|\n",
      "|[10.0,91.62700000...| 9.338264529592433|\n",
      "+--------------------+------------------+\n",
      "only showing top 20 rows\n",
      "\n"
     ]
    }
   ],
   "source": [
    "unlabelled_df.show()"
   ]
  },
  {
   "cell_type": "code",
   "execution_count": 20,
   "id": "fea289ef-ff3c-4ee3-ac48-ed1e6a0a9d31",
   "metadata": {},
   "outputs": [
    {
     "name": "stdout",
     "output_type": "stream",
     "text": [
      "Coefficients: [0.001556861582085266,0.019912791636392996,-0.15324164960003228,0.3287732411449961,0.8365692755028802,0.0029313888317101023,0.026534908869388918] Intercept: -1.0923209635495144\n"
     ]
    }
   ],
   "source": [
    "# Print the coefficients and intercept for linear regression\n",
    "print(\"Coefficients: {} Intercept: {}\".format(lr_model.coefficients,lr_model.intercept))"
   ]
  },
  {
   "cell_type": "code",
   "execution_count": 21,
   "id": "95ab46b9-5fa6-48eb-a029-201828bc0064",
   "metadata": {},
   "outputs": [
    {
     "name": "stdout",
     "output_type": "stream",
     "text": [
      "RMSE: 0.8447501462733567\n",
      "MSE: 0.7136028096288575\n",
      "R2: 0.9339140276045034\n"
     ]
    }
   ],
   "source": [
    "print(\"RMSE: {}\".format(test_df_evaluation.rootMeanSquaredError))\n",
    "print(\"MSE: {}\".format(test_df_evaluation.meanSquaredError))\n",
    "print(\"R2: {}\".format(test_df_evaluation.r2))"
   ]
  },
  {
   "cell_type": "code",
   "execution_count": 22,
   "id": "b37d1933-a6c0-4535-b037-6305ed44979c",
   "metadata": {},
   "outputs": [
    {
     "name": "stdout",
     "output_type": "stream",
     "text": [
      "+----------------------+\n",
      "|corr(crew, passengers)|\n",
      "+----------------------+\n",
      "|    0.9152341306065384|\n",
      "+----------------------+\n",
      "\n"
     ]
    }
   ],
   "source": [
    "df.select(corr('crew','passengers')).show()"
   ]
  },
  {
   "cell_type": "code",
   "execution_count": 23,
   "id": "9ee7cfc5-409b-40d5-b35b-d474046e34a5",
   "metadata": {},
   "outputs": [
    {
     "name": "stdout",
     "output_type": "stream",
     "text": [
      "+------------------+\n",
      "|corr(crew, cabins)|\n",
      "+------------------+\n",
      "|0.9508226063578497|\n",
      "+------------------+\n",
      "\n"
     ]
    }
   ],
   "source": [
    "df.select(corr('crew','cabins')).show()"
   ]
  },
  {
   "cell_type": "code",
   "execution_count": null,
   "id": "8fa8eaab-8244-41d3-9ab5-f85ef543641c",
   "metadata": {},
   "outputs": [],
   "source": []
  }
 ],
 "metadata": {
  "kernelspec": {
   "display_name": "Python 3 (ipykernel)",
   "language": "python",
   "name": "python3"
  },
  "language_info": {
   "codemirror_mode": {
    "name": "ipython",
    "version": 3
   },
   "file_extension": ".py",
   "mimetype": "text/x-python",
   "name": "python",
   "nbconvert_exporter": "python",
   "pygments_lexer": "ipython3",
   "version": "3.10.12"
  }
 },
 "nbformat": 4,
 "nbformat_minor": 5
}
