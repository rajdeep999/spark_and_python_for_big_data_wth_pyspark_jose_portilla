{
 "cells": [
  {
   "cell_type": "code",
   "execution_count": 1,
   "id": "49f2b5c8-c15e-4df8-bafc-53232acb4ef4",
   "metadata": {},
   "outputs": [],
   "source": [
    "import warnings\n",
    "warnings.filterwarnings(\"ignore\")"
   ]
  },
  {
   "cell_type": "code",
   "execution_count": 2,
   "id": "a2d055cb-662a-4eef-960d-005b23d69fdd",
   "metadata": {},
   "outputs": [],
   "source": [
    "import findspark\n",
    "findspark.init(\"/home/rajdeep/spark-3.5.0-bin-hadoop3/\")"
   ]
  },
  {
   "cell_type": "code",
   "execution_count": 3,
   "id": "49a9cbea-565f-4dce-a041-9e8d156df3ee",
   "metadata": {},
   "outputs": [],
   "source": [
    "from pyspark.sql import SparkSession\n",
    "from pyspark.ml.recommendation import ALS\n",
    "from pyspark.ml.evaluation import RegressionEvaluator"
   ]
  },
  {
   "cell_type": "code",
   "execution_count": 16,
   "id": "1c4f0d67-485a-4491-a3db-8ba3b7df9305",
   "metadata": {},
   "outputs": [],
   "source": [
    "#initalizing the spark object\n",
    "spark = SparkSession.builder.appName(\"movie_rec\").getOrCreate()"
   ]
  },
  {
   "cell_type": "code",
   "execution_count": 5,
   "id": "3809696a-53a2-405d-9d54-d287e5ebe0b0",
   "metadata": {},
   "outputs": [
    {
     "name": "stderr",
     "output_type": "stream",
     "text": [
      "                                                                                \r"
     ]
    }
   ],
   "source": [
    "#reading the data into dataframe\n",
    "df = spark.read.csv(\"data/movielens_ratings.csv\",header=True,inferSchema=True)"
   ]
  },
  {
   "cell_type": "code",
   "execution_count": 6,
   "id": "ffb1f96d-add9-40ea-8a3f-760ac6cc98f0",
   "metadata": {},
   "outputs": [
    {
     "data": {
      "text/plain": [
       "['movieId', 'rating', 'userId']"
      ]
     },
     "execution_count": 6,
     "metadata": {},
     "output_type": "execute_result"
    }
   ],
   "source": [
    "df.columns"
   ]
  },
  {
   "cell_type": "code",
   "execution_count": 7,
   "id": "a9d1c8f4-d497-4902-97d7-99c53f2db02e",
   "metadata": {},
   "outputs": [],
   "source": [
    "# splitting the available data into train - test df\n",
    "train_df, test_df = df.randomSplit([0.7,0.3])"
   ]
  },
  {
   "cell_type": "code",
   "execution_count": 8,
   "id": "e286e3d5-8fe2-4950-9f4a-086249059770",
   "metadata": {},
   "outputs": [],
   "source": [
    "#initializing the ALS for recommender model\n",
    "als = ALS(maxIter=10, regParam=0.1, userCol='userId',itemCol='movieId',ratingCol='rating')"
   ]
  },
  {
   "cell_type": "code",
   "execution_count": 9,
   "id": "c40c9517-5a70-4e84-a2d0-15c62a65c9a0",
   "metadata": {},
   "outputs": [
    {
     "name": "stderr",
     "output_type": "stream",
     "text": [
      "23/12/20 18:28:00 WARN InstanceBuilder: Failed to load implementation from:dev.ludovic.netlib.blas.JNIBLAS\n",
      "23/12/20 18:28:00 WARN InstanceBuilder: Failed to load implementation from:dev.ludovic.netlib.lapack.JNILAPACK\n"
     ]
    }
   ],
   "source": [
    "#fitting the model's on train data\n",
    "model = als.fit(train_df)"
   ]
  },
  {
   "cell_type": "code",
   "execution_count": 10,
   "id": "4cbd7eb0-c116-4c3c-ad5c-eed446b068ce",
   "metadata": {},
   "outputs": [],
   "source": [
    "# transforming the test data\n",
    "prediction = model.transform(test_df)"
   ]
  },
  {
   "cell_type": "code",
   "execution_count": 11,
   "id": "3d02f636-8332-441a-813e-7e4cda118dc6",
   "metadata": {},
   "outputs": [],
   "source": [
    "#initializing the evaluator to understand the acc of the model\n",
    "evaluator = RegressionEvaluator(labelCol='rating',predictionCol='prediction', metricName='rmse')"
   ]
  },
  {
   "cell_type": "code",
   "execution_count": 12,
   "id": "5dc0d30a-358a-4b05-8c96-f1e5f7d3ed07",
   "metadata": {},
   "outputs": [
    {
     "data": {
      "text/plain": [
       "1.1102764045435518"
      ]
     },
     "execution_count": 12,
     "metadata": {},
     "output_type": "execute_result"
    }
   ],
   "source": [
    "#getting rmse score\n",
    "evaluator.evaluate(prediction)"
   ]
  },
  {
   "cell_type": "code",
   "execution_count": 13,
   "id": "5da08a01-e4e9-412b-8415-9f45b7fe89dc",
   "metadata": {},
   "outputs": [],
   "source": [
    "#creating df with single user data to predict it recommended movies\n",
    "single_user_pred = df.filter(df.userId == 11)"
   ]
  },
  {
   "cell_type": "code",
   "execution_count": 14,
   "id": "52bb3c84-6118-4534-86e0-9ad4a285bd69",
   "metadata": {},
   "outputs": [],
   "source": [
    "#predicting themovie rating to decide which movie to recommend\n",
    "single_user_pred = model.transform(single_user_pred)"
   ]
  },
  {
   "cell_type": "code",
   "execution_count": 15,
   "id": "60704ad4-9075-48a6-99ee-1de947a45aef",
   "metadata": {},
   "outputs": [
    {
     "name": "stdout",
     "output_type": "stream",
     "text": [
      "+-------+------+------+----------+\n",
      "|movieId|rating|userId|prediction|\n",
      "+-------+------+------+----------+\n",
      "|     30|   5.0|    11| 4.8654146|\n",
      "|     32|   5.0|    11|   4.82667|\n",
      "|     18|   5.0|    11|  4.514018|\n",
      "|     48|   5.0|    11| 4.4334364|\n",
      "|     27|   5.0|    11| 4.3876143|\n",
      "|     79|   5.0|    11|  4.307012|\n",
      "|     69|   5.0|    11| 4.2936707|\n",
      "|     13|   4.0|    11| 3.7172916|\n",
      "|     38|   4.0|    11| 3.5677319|\n",
      "|     23|   5.0|    11| 3.5188491|\n",
      "|     19|   4.0|    11| 3.4875712|\n",
      "|     90|   4.0|    11|  3.459093|\n",
      "|     51|   3.0|    11| 3.4172406|\n",
      "|     66|   4.0|    11| 3.4066904|\n",
      "|     35|   3.0|    11|   3.00107|\n",
      "|     50|   4.0|    11| 2.9465716|\n",
      "|     80|   3.0|    11|  2.860137|\n",
      "|     72|   3.0|    11| 2.5653956|\n",
      "|     71|   3.0|    11| 2.5652914|\n",
      "|     36|   2.0|    11| 2.4310327|\n",
      "+-------+------+------+----------+\n",
      "only showing top 20 rows\n",
      "\n"
     ]
    }
   ],
   "source": [
    "#printing  the movie from most to least likely to be like by user\n",
    "single_user_pred.orderBy('prediction', ascending=False).show()"
   ]
  },
  {
   "cell_type": "code",
   "execution_count": null,
   "id": "9954ba8c-9a6f-42aa-85f2-ec7afcf5256c",
   "metadata": {},
   "outputs": [],
   "source": []
  }
 ],
 "metadata": {
  "kernelspec": {
   "display_name": "Python 3 (ipykernel)",
   "language": "python",
   "name": "python3"
  },
  "language_info": {
   "codemirror_mode": {
    "name": "ipython",
    "version": 3
   },
   "file_extension": ".py",
   "mimetype": "text/x-python",
   "name": "python",
   "nbconvert_exporter": "python",
   "pygments_lexer": "ipython3",
   "version": "3.10.12"
  }
 },
 "nbformat": 4,
 "nbformat_minor": 5
}
