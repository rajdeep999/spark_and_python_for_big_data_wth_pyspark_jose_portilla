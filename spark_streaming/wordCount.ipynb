{
 "cells": [
  {
   "cell_type": "code",
   "execution_count": 1,
   "id": "7e07f6af-f0cc-4592-ab76-09efb03f996b",
   "metadata": {},
   "outputs": [],
   "source": [
    "import warnings\n",
    "warnings.filterwarnings('ignore')"
   ]
  },
  {
   "cell_type": "code",
   "execution_count": 2,
   "id": "78fecd32-533a-4a46-adc0-66d8f6278c19",
   "metadata": {},
   "outputs": [],
   "source": [
    "import findspark\n",
    "findspark.init('/home/rajdeep/spark-3.5.0-bin-hadoop3/')"
   ]
  },
  {
   "cell_type": "code",
   "execution_count": 3,
   "id": "5b92f72b-f6d3-4c5e-8d52-ef43dadd6864",
   "metadata": {},
   "outputs": [],
   "source": [
    "from pyspark.sql import SparkSession\n",
    "from pyspark.sql.functions import *"
   ]
  },
  {
   "cell_type": "code",
   "execution_count": 5,
   "id": "cd3f92b4-61ea-4c26-90fc-337a3ccb03d7",
   "metadata": {},
   "outputs": [],
   "source": [
    "#initalizing the spark object\n",
    "spark = SparkSession.builder.appName('wordCount').getOrCreate()"
   ]
  },
  {
   "cell_type": "code",
   "execution_count": 6,
   "id": "c1b3f5c4-1266-4405-826a-183aba0c1631",
   "metadata": {},
   "outputs": [],
   "source": [
    "#create a socket to trasmit data\n",
    "# in unix shell - nc -lk [port]\n",
    "# for e.g., nc -lk 9999"
   ]
  },
  {
   "cell_type": "code",
   "execution_count": 7,
   "id": "917bd549-fa62-4f33-a3a8-529d67eec349",
   "metadata": {},
   "outputs": [
    {
     "name": "stderr",
     "output_type": "stream",
     "text": [
      "23/12/27 16:20:53 WARN TextSocketSourceProvider: The socket source should not be used for production applications! It does not support recovery.\n"
     ]
    }
   ],
   "source": [
    "#reading the data from console for stream processing\n",
    "lines = spark.readStream.format(\"socket\").option(\"host\",\"localhost\").option(\"port\",\"9999\").load()"
   ]
  },
  {
   "cell_type": "code",
   "execution_count": 8,
   "id": "096fad73-0a2b-42de-9824-453ba5472ef6",
   "metadata": {},
   "outputs": [
    {
     "name": "stdout",
     "output_type": "stream",
     "text": [
      "root\n",
      " |-- value: string (nullable = true)\n",
      "\n"
     ]
    }
   ],
   "source": [
    "#printing the schema\n",
    "lines.printSchema()"
   ]
  },
  {
   "cell_type": "code",
   "execution_count": 9,
   "id": "c1269823-e58d-4a5b-b3ee-3aac8f85998b",
   "metadata": {},
   "outputs": [],
   "source": [
    "#splitting the input lines into words\n",
    "word = lines.select(explode(split(col('value'),'\\s+')).alias(\"words\"))"
   ]
  },
  {
   "cell_type": "code",
   "execution_count": 10,
   "id": "d79b77fb-494f-4701-96b6-37c480146742",
   "metadata": {},
   "outputs": [],
   "source": [
    "#counting the occurence of each words\n",
    "count = word.groupBy(\"words\").count()"
   ]
  },
  {
   "cell_type": "code",
   "execution_count": 11,
   "id": "7f44a715-32ed-4b7f-b65e-c31b916fb21b",
   "metadata": {},
   "outputs": [
    {
     "name": "stderr",
     "output_type": "stream",
     "text": [
      "23/12/27 16:20:54 WARN ResolveWriteToStream: Temporary checkpoint location created which is deleted normally when the query didn't fail: /tmp/temporary-277bae75-adc0-4984-a4e1-70135aa56e64. If it's required to delete it under any circumstances, please set spark.sql.streaming.forceDeleteTempCheckpointLocation to true. Important to know deleting temp checkpoint folder is best effort.\n",
      "23/12/27 16:20:54 WARN ResolveWriteToStream: spark.sql.adaptive.enabled is not supported in streaming DataFrames/Datasets and will be disabled.\n"
     ]
    }
   ],
   "source": [
    "#initalizing stream output details\n",
    "streamingquery = count.writeStream.format(\"console\").outputMode(\"complete\").trigger(processingTime=\"1 second\").start()"
   ]
  },
  {
   "cell_type": "code",
   "execution_count": null,
   "id": "1216a0d7-00dc-4a27-985b-e9e244f73e57",
   "metadata": {},
   "outputs": [
    {
     "name": "stderr",
     "output_type": "stream",
     "text": [
      "                                                                                \r"
     ]
    },
    {
     "name": "stdout",
     "output_type": "stream",
     "text": [
      "-------------------------------------------\n",
      "Batch: 0\n",
      "-------------------------------------------\n",
      "+-----+-----+\n",
      "|words|count|\n",
      "+-----+-----+\n",
      "+-----+-----+\n",
      "\n"
     ]
    },
    {
     "name": "stderr",
     "output_type": "stream",
     "text": [
      "23/12/27 16:21:08 WARN ProcessingTimeExecutor: Current batch is falling behind. The trigger interval is 1000 milliseconds, but spent 13868 milliseconds\n",
      "                                                                                \r"
     ]
    },
    {
     "name": "stdout",
     "output_type": "stream",
     "text": [
      "-------------------------------------------\n",
      "Batch: 1\n",
      "-------------------------------------------\n",
      "+----------+-----+\n",
      "|     words|count|\n",
      "+----------+-----+\n",
      "|     input|    1|\n",
      "|      code|    1|\n",
      "|     words|    1|\n",
      "|  properly|    1|\n",
      "|     count|    1|\n",
      "| streaming|    1|\n",
      "|appliation|    1|\n",
      "|        is|    1|\n",
      "|       the|    2|\n",
      "|structured|    1|\n",
      "|       Hii|    1|\n",
      "|        of|    1|\n",
      "|   running|    1|\n",
      "|   working|    1|\n",
      "|    number|    1|\n",
      "+----------+-----+\n",
      "\n"
     ]
    },
    {
     "name": "stderr",
     "output_type": "stream",
     "text": [
      "23/12/27 16:21:16 WARN ProcessingTimeExecutor: Current batch is falling behind. The trigger interval is 1000 milliseconds, but spent 8243 milliseconds\n",
      "23/12/27 16:21:48 WARN ProcessingTimeExecutor: Current batch is falling behind. The trigger interval is 1000 milliseconds, but spent 5060 milliseconds\n"
     ]
    },
    {
     "name": "stdout",
     "output_type": "stream",
     "text": [
      "-------------------------------------------\n",
      "Batch: 2\n",
      "-------------------------------------------\n",
      "+----------+-----+\n",
      "|     words|count|\n",
      "+----------+-----+\n",
      "|     input|    1|\n",
      "|      code|    1|\n",
      "|     words|    1|\n",
      "|  properly|    1|\n",
      "|     count|    1|\n",
      "| streaming|    1|\n",
      "|appliation|    1|\n",
      "|        is|    1|\n",
      "|       the|    2|\n",
      "|structured|    1|\n",
      "|       Hii|    1|\n",
      "|        of|    1|\n",
      "|   running|    1|\n",
      "|   working|    1|\n",
      "|    number|    2|\n",
      "+----------+-----+\n",
      "\n"
     ]
    },
    {
     "name": "stderr",
     "output_type": "stream",
     "text": [
      "23/12/27 16:21:53 WARN ProcessingTimeExecutor: Current batch is falling behind. The trigger interval is 1000 milliseconds, but spent 5011 milliseconds\n"
     ]
    },
    {
     "name": "stdout",
     "output_type": "stream",
     "text": [
      "-------------------------------------------\n",
      "Batch: 3\n",
      "-------------------------------------------\n",
      "+----------+-----+\n",
      "|     words|count|\n",
      "+----------+-----+\n",
      "|     input|    1|\n",
      "|      code|    1|\n",
      "|     words|    2|\n",
      "|  properly|    1|\n",
      "|     count|    1|\n",
      "| streaming|    1|\n",
      "|appliation|    1|\n",
      "|        is|    1|\n",
      "|       the|    2|\n",
      "|structured|    1|\n",
      "|       Hii|    2|\n",
      "|        of|    1|\n",
      "|   running|    1|\n",
      "|   working|    1|\n",
      "|    number|    2|\n",
      "+----------+-----+\n",
      "\n"
     ]
    }
   ],
   "source": [
    "#awaiting the source termination\n",
    "streamingquery.awaitTermination()"
   ]
  },
  {
   "cell_type": "code",
   "execution_count": null,
   "id": "6bb608a3-5b9b-43b0-a955-1e6b352a1d9e",
   "metadata": {},
   "outputs": [],
   "source": []
  },
  {
   "cell_type": "code",
   "execution_count": null,
   "id": "32f7729a-2f7e-42c5-915c-702bd5306ae9",
   "metadata": {},
   "outputs": [],
   "source": []
  }
 ],
 "metadata": {
  "kernelspec": {
   "display_name": "Python 3 (ipykernel)",
   "language": "python",
   "name": "python3"
  },
  "language_info": {
   "codemirror_mode": {
    "name": "ipython",
    "version": 3
   },
   "file_extension": ".py",
   "mimetype": "text/x-python",
   "name": "python",
   "nbconvert_exporter": "python",
   "pygments_lexer": "ipython3",
   "version": "3.10.12"
  }
 },
 "nbformat": 4,
 "nbformat_minor": 5
}
