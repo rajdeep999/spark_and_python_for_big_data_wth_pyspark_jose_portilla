{
 "cells": [
  {
   "cell_type": "code",
   "execution_count": 1,
   "id": "eb39ab93-496c-44c3-8611-0d5a83607677",
   "metadata": {},
   "outputs": [],
   "source": [
    "import warnings\n",
    "warnings.filterwarnings(\"ignore\")"
   ]
  },
  {
   "cell_type": "code",
   "execution_count": 2,
   "id": "0539f681-dcbf-428d-954b-5f12e5c5be34",
   "metadata": {},
   "outputs": [],
   "source": [
    "import findspark\n",
    "findspark.init(\"/home/rajdeep/spark-3.5.0-bin-hadoop3/\")"
   ]
  },
  {
   "cell_type": "code",
   "execution_count": 3,
   "id": "c768ede4-89f2-40a7-b5e8-5390587748cb",
   "metadata": {},
   "outputs": [],
   "source": [
    "from pyspark.sql import SparkSession\n",
    "from pyspark.sql.functions import length, col\n",
    "from pyspark.ml.feature import Tokenizer, StopWordsRemover, CountVectorizer, VectorAssembler, IDF, StringIndexer\n",
    "from pyspark.ml import Pipeline\n",
    "from pyspark.ml.classification import NaiveBayes\n",
    "from pyspark.ml.evaluation import MulticlassClassificationEvaluator"
   ]
  },
  {
   "cell_type": "code",
   "execution_count": 23,
   "id": "b138ad6b-fdf6-4c77-9df8-29240c014bca",
   "metadata": {},
   "outputs": [],
   "source": [
    "#initalizing the spark object\n",
    "spark = SparkSession.builder.appName(\"spam\").getOrCreate()"
   ]
  },
  {
   "cell_type": "code",
   "execution_count": 5,
   "id": "55332d4a-93e4-4aa7-8e39-ffb22db7407b",
   "metadata": {},
   "outputs": [
    {
     "name": "stderr",
     "output_type": "stream",
     "text": [
      "                                                                                \r"
     ]
    }
   ],
   "source": [
    "#reading the data into dataframe\n",
    "df = spark.read.csv(\"data/SMSSpamCollection\", inferSchema=True, sep = '\\t')"
   ]
  },
  {
   "cell_type": "code",
   "execution_count": 6,
   "id": "80bda70e-82bc-4deb-a4f4-bd73c826b5f6",
   "metadata": {},
   "outputs": [],
   "source": [
    "# renaming the column headers\n",
    "df = df.withColumnRenamed(\"_c0\",\"class\").withColumnRenamed(\"_c1\",\"text\")"
   ]
  },
  {
   "cell_type": "code",
   "execution_count": 7,
   "id": "79833806-ff63-414a-a2bb-42231240c471",
   "metadata": {},
   "outputs": [],
   "source": [
    "# creatng the new column header\n",
    "df = df.withColumn(\"length\", length(col(\"text\")))"
   ]
  },
  {
   "cell_type": "code",
   "execution_count": 8,
   "id": "33da5ec3-59a5-43dc-a206-bf6ba6b1567b",
   "metadata": {},
   "outputs": [],
   "source": [
    "# Cleaning text"
   ]
  },
  {
   "cell_type": "code",
   "execution_count": 9,
   "id": "9db53060-b4c9-45ef-b824-636f7dc1b909",
   "metadata": {},
   "outputs": [],
   "source": [
    "# initalizing the tokenizer, stopwordsremover, countvectorizer, idf, idf  and StringIndexer on label column\n",
    "tokenizer = Tokenizer(inputCol=\"text\",outputCol=\"tokenize_text\")\n",
    "stopwordsremover = StopWordsRemover(inputCol=\"tokenize_text\", outputCol=\"clean_tokenize\")\n",
    "countvectorizer = CountVectorizer(inputCol='clean_tokenize', outputCol='cvect')\n",
    "idf = IDF(inputCol='cvect', outputCol='idf_vect')\n",
    "assembler = VectorAssembler(inputCols=['idf_vect','length'], outputCol='feature')\n",
    "spam_ham_to_numeric =  StringIndexer(inputCol='class',outputCol='label')"
   ]
  },
  {
   "cell_type": "code",
   "execution_count": 10,
   "id": "0fa47330-5513-4bbe-bc6f-9da2e39326ed",
   "metadata": {},
   "outputs": [],
   "source": [
    "#initalizing the pipeline\n",
    "pipeline = Pipeline(stages=[spam_ham_to_numeric,tokenizer,stopwordsremover,countvectorizer,idf,assembler])"
   ]
  },
  {
   "cell_type": "code",
   "execution_count": 11,
   "id": "6dbb8c6e-4b8f-4390-99b8-19c229212149",
   "metadata": {},
   "outputs": [
    {
     "name": "stderr",
     "output_type": "stream",
     "text": [
      "                                                                                \r"
     ]
    }
   ],
   "source": [
    "#fitting the ppeline on df\n",
    "cleaner = pipeline.fit(df)"
   ]
  },
  {
   "cell_type": "code",
   "execution_count": 12,
   "id": "88db0d36-e9ff-4357-9e7e-d647541a96a6",
   "metadata": {},
   "outputs": [],
   "source": [
    "# transforming the df\n",
    "df = cleaner.transform(df)"
   ]
  },
  {
   "cell_type": "code",
   "execution_count": 13,
   "id": "81b2af4b-bf34-4338-aa5f-07dfb94e9369",
   "metadata": {},
   "outputs": [],
   "source": [
    "# selecting th required columns\n",
    "clean_df = df.select(['label','feature'])"
   ]
  },
  {
   "cell_type": "code",
   "execution_count": 14,
   "id": "49a38bc9-cece-43f0-8418-4a0efcbcd679",
   "metadata": {},
   "outputs": [
    {
     "name": "stdout",
     "output_type": "stream",
     "text": [
      "+-----+--------------------+\n",
      "|label|             feature|\n",
      "+-----+--------------------+\n",
      "|  0.0|(13424,[7,11,31,6...|\n",
      "|  0.0|(13424,[0,24,301,...|\n",
      "|  1.0|(13424,[2,13,19,3...|\n",
      "|  0.0|(13424,[0,70,80,1...|\n",
      "|  0.0|(13424,[36,134,31...|\n",
      "|  1.0|(13424,[10,60,140...|\n",
      "|  0.0|(13424,[10,53,102...|\n",
      "|  0.0|(13424,[127,185,4...|\n",
      "|  1.0|(13424,[1,47,121,...|\n",
      "|  1.0|(13424,[0,1,13,27...|\n",
      "|  0.0|(13424,[18,43,117...|\n",
      "|  1.0|(13424,[8,16,37,8...|\n",
      "|  1.0|(13424,[13,30,47,...|\n",
      "|  0.0|(13424,[39,95,221...|\n",
      "|  0.0|(13424,[555,1797,...|\n",
      "|  1.0|(13424,[30,109,11...|\n",
      "|  0.0|(13424,[82,214,44...|\n",
      "|  0.0|(13424,[0,2,49,13...|\n",
      "|  0.0|(13424,[0,74,105,...|\n",
      "|  1.0|(13424,[4,30,33,5...|\n",
      "+-----+--------------------+\n",
      "only showing top 20 rows\n",
      "\n"
     ]
    }
   ],
   "source": [
    "clean_df.show()"
   ]
  },
  {
   "cell_type": "code",
   "execution_count": 15,
   "id": "878dc695-1b20-4f14-91b0-a9f1e6793fad",
   "metadata": {},
   "outputs": [],
   "source": [
    "# splitting the data in train test\n",
    "train_df, test_df = clean_df.randomSplit([0.7,0.3])"
   ]
  },
  {
   "cell_type": "code",
   "execution_count": 16,
   "id": "6bfdaec3-304d-4755-984d-351d0e5fe69c",
   "metadata": {},
   "outputs": [],
   "source": [
    "# initializing classification model\n",
    "nb = NaiveBayes(featuresCol='feature')"
   ]
  },
  {
   "cell_type": "code",
   "execution_count": 17,
   "id": "9cbd8277-bd62-4b08-bc54-7f7ee320b781",
   "metadata": {},
   "outputs": [
    {
     "name": "stderr",
     "output_type": "stream",
     "text": [
      "23/12/20 21:16:58 WARN DAGScheduler: Broadcasting large task binary with size 1192.9 KiB\n",
      "23/12/20 21:17:00 WARN DAGScheduler: Broadcasting large task binary with size 1172.3 KiB\n",
      "                                                                                \r"
     ]
    }
   ],
   "source": [
    "# ftting the model using training data\n",
    "model = nb.fit(train_df)"
   ]
  },
  {
   "cell_type": "code",
   "execution_count": 18,
   "id": "2ebbc7e4-f969-4e3b-99a7-8a439352193d",
   "metadata": {},
   "outputs": [],
   "source": [
    "# predicting the results\n",
    "predictions = model.transform(test_df)"
   ]
  },
  {
   "cell_type": "code",
   "execution_count": 19,
   "id": "c61c88d6-f60f-44ba-939a-a3cb45ba9c72",
   "metadata": {},
   "outputs": [
    {
     "name": "stderr",
     "output_type": "stream",
     "text": [
      "23/12/20 21:17:02 WARN DAGScheduler: Broadcasting large task binary with size 1397.9 KiB\n",
      "[Stage 14:>                                                         (0 + 1) / 1]\r"
     ]
    },
    {
     "name": "stdout",
     "output_type": "stream",
     "text": [
      "+-----+--------------------+--------------------+--------------------+----------+\n",
      "|label|             feature|       rawPrediction|         probability|prediction|\n",
      "+-----+--------------------+--------------------+--------------------+----------+\n",
      "|  0.0|(13424,[0,1,2,13,...|[-605.32818178580...|[1.0,3.0568666344...|       0.0|\n",
      "|  0.0|(13424,[0,1,3,9,1...|[-573.10690380877...|[0.99999999999987...|       0.0|\n",
      "|  0.0|(13424,[0,1,4,50,...|[-841.29622298089...|[1.0,7.2523152791...|       0.0|\n",
      "|  0.0|(13424,[0,1,5,20,...|[-807.66778320629...|[1.0,4.4406975432...|       0.0|\n",
      "|  0.0|(13424,[0,1,7,8,1...|[-876.91909620077...|[1.0,2.7211460697...|       0.0|\n",
      "|  0.0|(13424,[0,1,9,14,...|[-542.50462158837...|[1.0,1.9961277531...|       0.0|\n",
      "|  0.0|(13424,[0,1,12,33...|[-442.64272786844...|[1.0,2.1603724010...|       0.0|\n",
      "|  0.0|(13424,[0,1,14,18...|[-1375.5441298791...|[1.0,1.9537974995...|       0.0|\n",
      "|  0.0|(13424,[0,1,15,20...|[-668.67724817835...|[1.0,6.8491352653...|       0.0|\n",
      "|  0.0|(13424,[0,1,20,27...|[-966.39191827612...|[1.0,1.5770706429...|       0.0|\n",
      "|  0.0|(13424,[0,1,21,27...|[-750.02248751678...|[1.0,4.0604216851...|       0.0|\n",
      "|  0.0|(13424,[0,1,23,63...|[-1294.5103113756...|[1.0,9.7137962477...|       0.0|\n",
      "|  0.0|(13424,[0,1,71,10...|[-705.56129408328...|[1.0,8.0748247555...|       0.0|\n",
      "|  0.0|(13424,[0,1,150,1...|[-250.05051265953...|[0.72083781606854...|       0.0|\n",
      "|  0.0|(13424,[0,1,428,6...|[-302.17237510366...|[0.99999999999999...|       0.0|\n",
      "|  0.0|(13424,[0,2,3,6,9...|[-3294.7117197581...|[1.0,9.1804297150...|       0.0|\n",
      "|  0.0|(13424,[0,2,3,8,2...|[-1636.8541473468...|[1.0,1.4009989426...|       0.0|\n",
      "|  0.0|(13424,[0,2,4,5,1...|[-2496.0025326601...|[1.0,6.6203814173...|       0.0|\n",
      "|  0.0|(13424,[0,2,4,5,1...|[-1623.0746902157...|[1.0,1.0262484804...|       0.0|\n",
      "|  0.0|(13424,[0,2,4,8,2...|[-1433.2976630354...|[1.0,6.9135055209...|       0.0|\n",
      "+-----+--------------------+--------------------+--------------------+----------+\n",
      "only showing top 20 rows\n",
      "\n"
     ]
    },
    {
     "name": "stderr",
     "output_type": "stream",
     "text": [
      "23/12/20 21:17:03 WARN InstanceBuilder: Failed to load implementation from:dev.ludovic.netlib.blas.JNIBLAS\n",
      "                                                                                \r"
     ]
    }
   ],
   "source": [
    "predictions.show()"
   ]
  },
  {
   "cell_type": "code",
   "execution_count": 20,
   "id": "d5e35afc-e304-4325-b660-e934404250e3",
   "metadata": {},
   "outputs": [],
   "source": [
    "# initialing the evaluator\n",
    "evaluator = MulticlassClassificationEvaluator()"
   ]
  },
  {
   "cell_type": "code",
   "execution_count": 21,
   "id": "572e91b7-836b-49ec-80be-e13c2b8f3fbb",
   "metadata": {},
   "outputs": [
    {
     "name": "stderr",
     "output_type": "stream",
     "text": [
      "23/12/20 21:17:03 WARN DAGScheduler: Broadcasting large task binary with size 1402.9 KiB\n",
      "                                                                                \r"
     ]
    }
   ],
   "source": [
    "# calculating the rmse score\n",
    "acc = evaluator.evaluate(predictions)"
   ]
  },
  {
   "cell_type": "code",
   "execution_count": 22,
   "id": "a4367a0f-f1a1-418a-b461-5d22e6f6795c",
   "metadata": {},
   "outputs": [
    {
     "name": "stdout",
     "output_type": "stream",
     "text": [
      "Accuracy of model at predicting spam was: 0.9263661726402102\n"
     ]
    }
   ],
   "source": [
    "print(\"Accuracy of model at predicting spam was: {}\".format(acc))"
   ]
  },
  {
   "cell_type": "code",
   "execution_count": null,
   "id": "0e966e9a-ad1a-448b-8150-21b33374694c",
   "metadata": {},
   "outputs": [],
   "source": []
  }
 ],
 "metadata": {
  "kernelspec": {
   "display_name": "Python 3 (ipykernel)",
   "language": "python",
   "name": "python3"
  },
  "language_info": {
   "codemirror_mode": {
    "name": "ipython",
    "version": 3
   },
   "file_extension": ".py",
   "mimetype": "text/x-python",
   "name": "python",
   "nbconvert_exporter": "python",
   "pygments_lexer": "ipython3",
   "version": "3.10.12"
  }
 },
 "nbformat": 4,
 "nbformat_minor": 5
}
