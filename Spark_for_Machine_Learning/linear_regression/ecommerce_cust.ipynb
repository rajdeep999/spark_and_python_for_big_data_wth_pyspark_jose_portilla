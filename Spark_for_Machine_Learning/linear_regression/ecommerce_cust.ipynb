{
 "cells": [
  {
   "cell_type": "code",
   "execution_count": 1,
   "id": "d8506071-45f8-491a-9936-2bd98a744352",
   "metadata": {},
   "outputs": [],
   "source": [
    "import warnings\n",
    "warnings.filterwarnings(\"ignore\")"
   ]
  },
  {
   "cell_type": "code",
   "execution_count": 2,
   "id": "f7aaa0eb-d4b6-4ab4-aa95-2e6f9bd454ae",
   "metadata": {},
   "outputs": [],
   "source": [
    "import findspark\n",
    "findspark.init(\"/home/rajdeep/spark-3.5.0-bin-hadoop3\")"
   ]
  },
  {
   "cell_type": "code",
   "execution_count": 3,
   "id": "2e33e50a-4a4d-4102-958e-ab1980e8db7b",
   "metadata": {},
   "outputs": [],
   "source": [
    "from pyspark.sql import SparkSession"
   ]
  },
  {
   "cell_type": "code",
   "execution_count": 4,
   "id": "94c7ad2e-34b1-458a-b6fb-a538d4eae18e",
   "metadata": {},
   "outputs": [
    {
     "name": "stderr",
     "output_type": "stream",
     "text": [
      "23/11/20 21:43:44 WARN Utils: Your hostname, DESKTOP-CSFBOLK resolves to a loopback address: 127.0.1.1; using 172.19.12.103 instead (on interface eth0)\n",
      "23/11/20 21:43:45 WARN Utils: Set SPARK_LOCAL_IP if you need to bind to another address\n",
      "Setting default log level to \"WARN\".\n",
      "To adjust logging level use sc.setLogLevel(newLevel). For SparkR, use setLogLevel(newLevel).\n",
      "23/11/20 21:43:47 WARN NativeCodeLoader: Unable to load native-hadoop library for your platform... using builtin-java classes where applicable\n",
      "23/11/20 21:43:49 WARN Utils: Service 'SparkUI' could not bind on port 4040. Attempting port 4041.\n",
      "23/11/20 21:43:49 WARN Utils: Service 'SparkUI' could not bind on port 4041. Attempting port 4042.\n",
      "23/11/20 21:43:49 WARN Utils: Service 'SparkUI' could not bind on port 4042. Attempting port 4043.\n"
     ]
    }
   ],
   "source": [
    "spark = SparkSession.builder.appName('ecommerce').getOrCreate()"
   ]
  },
  {
   "cell_type": "code",
   "execution_count": 5,
   "id": "172edcfb-ff02-4523-9af0-29d9547b6aca",
   "metadata": {},
   "outputs": [
    {
     "name": "stderr",
     "output_type": "stream",
     "text": [
      "                                                                                \r"
     ]
    }
   ],
   "source": [
    "df = spark.read.csv('data/Ecommerce_Customers.csv',inferSchema=True, header=True)"
   ]
  },
  {
   "cell_type": "code",
   "execution_count": 6,
   "id": "3fc36f6a-18ba-44e5-8e57-f3f3d455b9ab",
   "metadata": {},
   "outputs": [
    {
     "name": "stdout",
     "output_type": "stream",
     "text": [
      "mstephenson@fernandez.com\n",
      "835 Frank TunnelWrightmouth, MI 82180-9605\n",
      "Violet\n",
      "34.49726772511229\n",
      "12.65565114916675\n",
      "39.57766801952616\n",
      "4.0826206329529615\n",
      "587.9510539684005\n"
     ]
    }
   ],
   "source": [
    "for val in df.head(1)[0]:\n",
    "    print(val)"
   ]
  },
  {
   "cell_type": "code",
   "execution_count": 7,
   "id": "2eb46537-8c51-4b9e-a04c-4016fedcb5c6",
   "metadata": {},
   "outputs": [],
   "source": [
    "from pyspark.ml.linalg import Vectors\n",
    "from pyspark.ml.feature import VectorAssembler"
   ]
  },
  {
   "cell_type": "code",
   "execution_count": 8,
   "id": "7b70cfbc-2e57-4ca5-a759-80d36982e75c",
   "metadata": {},
   "outputs": [
    {
     "data": {
      "text/plain": [
       "['Email',\n",
       " 'Address',\n",
       " 'Avatar',\n",
       " 'Avg Session Length',\n",
       " 'Time on App',\n",
       " 'Time on Website',\n",
       " 'Length of Membership',\n",
       " 'Yearly Amount Spent']"
      ]
     },
     "execution_count": 8,
     "metadata": {},
     "output_type": "execute_result"
    }
   ],
   "source": [
    "df.columns"
   ]
  },
  {
   "cell_type": "code",
   "execution_count": 9,
   "id": "d88ba314-4f07-43c2-8f81-6ddc19969281",
   "metadata": {},
   "outputs": [],
   "source": [
    "assembler = VectorAssembler(inputCols=['Avg Session Length', 'Time on App', 'Time on Website', 'Length of Membership'],\n",
    "               outputCol=\"features\")"
   ]
  },
  {
   "cell_type": "code",
   "execution_count": 10,
   "id": "f4e4b788-d4b8-4197-8c52-d0357a61d60d",
   "metadata": {},
   "outputs": [],
   "source": [
    "df_1 = assembler.transform(df)"
   ]
  },
  {
   "cell_type": "code",
   "execution_count": 11,
   "id": "9a42906c-0ea5-4862-9fc8-da9ea4114e4a",
   "metadata": {},
   "outputs": [],
   "source": [
    "df_1 = df_1.select(['features','Yearly Amount Spent'])"
   ]
  },
  {
   "cell_type": "code",
   "execution_count": 12,
   "id": "2025e2dd-478a-49fb-b7a4-b4cd3e4f745a",
   "metadata": {},
   "outputs": [
    {
     "name": "stdout",
     "output_type": "stream",
     "text": [
      "+--------------------+-------------------+\n",
      "|            features|Yearly Amount Spent|\n",
      "+--------------------+-------------------+\n",
      "|[34.4972677251122...|  587.9510539684005|\n",
      "|[31.9262720263601...|  392.2049334443264|\n",
      "|[33.0009147556426...| 487.54750486747207|\n",
      "|[34.3055566297555...|  581.8523440352177|\n",
      "|[33.3306725236463...|  599.4060920457634|\n",
      "|[33.8710378793419...|   637.102447915074|\n",
      "|[32.0215955013870...|  521.5721747578274|\n",
      "|[32.7391429383803...|  549.9041461052942|\n",
      "|[33.9877728956856...|  570.2004089636196|\n",
      "|[31.9365486184489...|  427.1993848953282|\n",
      "|[33.9925727749537...|  492.6060127179966|\n",
      "|[33.8793608248049...|  522.3374046069357|\n",
      "|[29.5324289670579...|  408.6403510726275|\n",
      "|[33.1903340437226...|  573.4158673313865|\n",
      "|[32.3879758531538...|  470.4527333009554|\n",
      "|[30.7377203726281...|  461.7807421962299|\n",
      "|[32.1253868972878...| 457.84769594494855|\n",
      "|[32.3388993230671...| 407.70454754954415|\n",
      "|[32.1878120459321...|  452.3156754800354|\n",
      "|[32.6178560628234...|   605.061038804892|\n",
      "+--------------------+-------------------+\n",
      "only showing top 20 rows\n",
      "\n"
     ]
    }
   ],
   "source": [
    "df_1.show()"
   ]
  },
  {
   "cell_type": "code",
   "execution_count": 13,
   "id": "e5c256c7-9088-4b71-abfc-14e86070f805",
   "metadata": {},
   "outputs": [],
   "source": [
    "train_df,test_df = df_1.randomSplit([0.7, 0.3])"
   ]
  },
  {
   "cell_type": "code",
   "execution_count": 14,
   "id": "87b387f1-86df-4271-9505-b649fdc03c00",
   "metadata": {},
   "outputs": [
    {
     "name": "stdout",
     "output_type": "stream",
     "text": [
      "+-------+-------------------+\n",
      "|summary|Yearly Amount Spent|\n",
      "+-------+-------------------+\n",
      "|  count|                152|\n",
      "|   mean|  509.6456046594871|\n",
      "| stddev|  80.26996423262842|\n",
      "|    min| 256.67058229005585|\n",
      "|    max|  765.5184619388373|\n",
      "+-------+-------------------+\n",
      "\n"
     ]
    }
   ],
   "source": [
    "test_df.describe().show()"
   ]
  },
  {
   "cell_type": "code",
   "execution_count": 15,
   "id": "5de98967-4270-456f-b16b-1ff0ce37e635",
   "metadata": {},
   "outputs": [],
   "source": [
    "from pyspark.ml.regression import LinearRegression"
   ]
  },
  {
   "cell_type": "code",
   "execution_count": 16,
   "id": "2b3b24c9-af65-4274-9b6d-2b2fd3292a83",
   "metadata": {},
   "outputs": [],
   "source": [
    "lr = LinearRegression(labelCol = 'Yearly Amount Spent')"
   ]
  },
  {
   "cell_type": "code",
   "execution_count": 17,
   "id": "57e9e788-cb04-4dc9-8a98-a8f6117e06cc",
   "metadata": {},
   "outputs": [
    {
     "name": "stderr",
     "output_type": "stream",
     "text": [
      "23/11/20 21:44:06 WARN Instrumentation: [6057a8e6] regParam is zero, which might cause numerical instability and overfitting.\n",
      "23/11/20 21:44:06 WARN InstanceBuilder: Failed to load implementation from:dev.ludovic.netlib.blas.JNIBLAS\n",
      "23/11/20 21:44:06 WARN InstanceBuilder: Failed to load implementation from:dev.ludovic.netlib.lapack.JNILAPACK\n"
     ]
    }
   ],
   "source": [
    "lr_model = lr.fit(train_df)"
   ]
  },
  {
   "cell_type": "code",
   "execution_count": 18,
   "id": "3370aa74-bd61-4eeb-a577-510dedb4963f",
   "metadata": {},
   "outputs": [],
   "source": [
    "test_result = lr_model.evaluate(test_df)"
   ]
  },
  {
   "cell_type": "code",
   "execution_count": 19,
   "id": "9630e648-3f93-456a-92e4-bc852860127b",
   "metadata": {},
   "outputs": [
    {
     "data": {
      "text/plain": [
       "10.165149079879086"
      ]
     },
     "execution_count": 19,
     "metadata": {},
     "output_type": "execute_result"
    }
   ],
   "source": [
    "test_result.rootMeanSquaredError"
   ]
  },
  {
   "cell_type": "code",
   "execution_count": 20,
   "id": "7df64230-314d-44cf-a153-9af3c342a8c0",
   "metadata": {},
   "outputs": [
    {
     "data": {
      "text/plain": [
       "0.9838568602547507"
      ]
     },
     "execution_count": 20,
     "metadata": {},
     "output_type": "execute_result"
    }
   ],
   "source": [
    "test_result.r2"
   ]
  },
  {
   "cell_type": "code",
   "execution_count": 21,
   "id": "25276310-3d68-48f4-b746-f9b76635ba5d",
   "metadata": {},
   "outputs": [],
   "source": [
    "unlabled_data  = test_df.select(['features'])"
   ]
  },
  {
   "cell_type": "code",
   "execution_count": 22,
   "id": "45babdce-d322-4dab-adea-6aa5f5a64bd2",
   "metadata": {},
   "outputs": [
    {
     "name": "stdout",
     "output_type": "stream",
     "text": [
      "+--------------------+\n",
      "|            features|\n",
      "+--------------------+\n",
      "|[29.5324289670579...|\n",
      "|[30.4925366965402...|\n",
      "|[30.8794843441274...|\n",
      "|[31.1239743499119...|\n",
      "|[31.1280900496166...|\n",
      "|[31.5702008293202...|\n",
      "|[31.5761319713222...|\n",
      "|[31.6005122003032...|\n",
      "|[31.6098395733896...|\n",
      "|[31.8745516945853...|\n",
      "|[31.9096268275227...|\n",
      "|[31.9365486184489...|\n",
      "|[31.9673209478824...|\n",
      "|[32.0444861274404...|\n",
      "|[32.0478146331398...|\n",
      "|[32.0542618511847...|\n",
      "|[32.0705462209254...|\n",
      "|[32.0775900443291...|\n",
      "|[32.0883806304482...|\n",
      "|[32.1164001209281...|\n",
      "+--------------------+\n",
      "only showing top 20 rows\n",
      "\n"
     ]
    }
   ],
   "source": [
    "unlabled_data.show()"
   ]
  },
  {
   "cell_type": "code",
   "execution_count": 23,
   "id": "542d0ccd-2c5a-47f8-9bd0-2048fb5899ac",
   "metadata": {},
   "outputs": [],
   "source": [
    "predictions = lr_model.transform(unlabled_data)"
   ]
  },
  {
   "cell_type": "code",
   "execution_count": 24,
   "id": "b1e49844-b14b-4896-8073-f9cae31de5bb",
   "metadata": {},
   "outputs": [
    {
     "name": "stdout",
     "output_type": "stream",
     "text": [
      "+--------------------+------------------+\n",
      "|            features|        prediction|\n",
      "+--------------------+------------------+\n",
      "|[29.5324289670579...| 398.3871259251928|\n",
      "|[30.4925366965402...|287.05540449858336|\n",
      "|[30.8794843441274...|494.08009188327287|\n",
      "|[31.1239743499119...|508.57537746432763|\n",
      "|[31.1280900496166...| 565.0556602123752|\n",
      "|[31.5702008293202...| 563.8451015471028|\n",
      "|[31.5761319713222...| 543.6030755357617|\n",
      "|[31.6005122003032...| 461.1801302052336|\n",
      "|[31.6098395733896...| 427.2580746912158|\n",
      "|[31.8745516945853...|398.29897944709205|\n",
      "|[31.9096268275227...| 552.4813591348325|\n",
      "|[31.9365486184489...|441.13368689976573|\n",
      "|[31.9673209478824...|450.62426438604166|\n",
      "|[32.0444861274404...|446.88497004870646|\n",
      "|[32.0478146331398...| 480.7813529773048|\n",
      "|[32.0542618511847...| 557.5003096262171|\n",
      "|[32.0705462209254...| 532.4749690001247|\n",
      "|[32.0775900443291...| 403.4539623768867|\n",
      "|[32.0883806304482...| 518.5041571994971|\n",
      "|[32.1164001209281...| 460.7363555559741|\n",
      "+--------------------+------------------+\n",
      "only showing top 20 rows\n",
      "\n"
     ]
    }
   ],
   "source": [
    "predictions.show()"
   ]
  },
  {
   "cell_type": "code",
   "execution_count": null,
   "id": "31f0a657-05d1-4f31-8330-c0eeac5008c1",
   "metadata": {},
   "outputs": [],
   "source": []
  }
 ],
 "metadata": {
  "kernelspec": {
   "display_name": "Python 3 (ipykernel)",
   "language": "python",
   "name": "python3"
  },
  "language_info": {
   "codemirror_mode": {
    "name": "ipython",
    "version": 3
   },
   "file_extension": ".py",
   "mimetype": "text/x-python",
   "name": "python",
   "nbconvert_exporter": "python",
   "pygments_lexer": "ipython3",
   "version": "3.10.12"
  }
 },
 "nbformat": 4,
 "nbformat_minor": 5
}
