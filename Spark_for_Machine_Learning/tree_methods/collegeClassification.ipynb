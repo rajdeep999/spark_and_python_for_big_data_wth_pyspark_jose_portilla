{
 "cells": [
  {
   "cell_type": "code",
   "execution_count": 1,
   "id": "b73d5043-6f26-4eff-9cb0-523d7319a3c7",
   "metadata": {},
   "outputs": [],
   "source": [
    "import warnings\n",
    "warnings.filterwarnings(\"ignore\")"
   ]
  },
  {
   "cell_type": "code",
   "execution_count": 2,
   "id": "53c9a929-2048-49ab-a1bd-4791c92aff20",
   "metadata": {},
   "outputs": [],
   "source": [
    "import findspark\n",
    "findspark.init(\"/home/rajdeep/spark-3.5.0-bin-hadoop3\")"
   ]
  },
  {
   "cell_type": "code",
   "execution_count": 3,
   "id": "212e1dc4-263c-4bbb-8a9e-cfda317959ec",
   "metadata": {},
   "outputs": [],
   "source": [
    "from pyspark.sql import SparkSession\n",
    "from pyspark.ml.feature import VectorAssembler, StringIndexer\n",
    "from pyspark.ml.classification import DecisionTreeClassifier, RandomForestClassifier, GBTClassifier\n",
    "from pyspark.ml.evaluation import BinaryClassificationEvaluator, MulticlassClassificationEvaluator"
   ]
  },
  {
   "cell_type": "code",
   "execution_count": 17,
   "id": "1b1a178c-2023-42cc-ad29-361646e24e2b",
   "metadata": {},
   "outputs": [],
   "source": [
    "#initalizing the spark object\n",
    "spark = SparkSession.builder.appName(\"collegeClass\").getOrCreate()"
   ]
  },
  {
   "cell_type": "code",
   "execution_count": 5,
   "id": "dfd240fe-4aab-4ba2-a8d1-4b43a8950c6f",
   "metadata": {},
   "outputs": [],
   "source": [
    "#reading the data into dataframe\n",
    "df = spark.read.csv(\"data/College.csv\", inferSchema=True, header=True)"
   ]
  },
  {
   "cell_type": "code",
   "execution_count": 6,
   "id": "73846647-d473-481d-a14b-4ec61d48c3d2",
   "metadata": {},
   "outputs": [
    {
     "data": {
      "text/plain": [
       "['School',\n",
       " 'Private',\n",
       " 'Apps',\n",
       " 'Accept',\n",
       " 'Enroll',\n",
       " 'Top10perc',\n",
       " 'Top25perc',\n",
       " 'F_Undergrad',\n",
       " 'P_Undergrad',\n",
       " 'Outstate',\n",
       " 'Room_Board',\n",
       " 'Books',\n",
       " 'Personal',\n",
       " 'PhD',\n",
       " 'Terminal',\n",
       " 'S_F_Ratio',\n",
       " 'perc_alumni',\n",
       " 'Expend',\n",
       " 'Grad_Rate']"
      ]
     },
     "execution_count": 6,
     "metadata": {},
     "output_type": "execute_result"
    }
   ],
   "source": [
    "df.columns"
   ]
  },
  {
   "cell_type": "code",
   "execution_count": 7,
   "id": "7b931a1a-a025-4762-b914-10a4bac5746b",
   "metadata": {},
   "outputs": [],
   "source": [
    "#initializing the VectorAssembler to create feature vector for ML model\n",
    "assembler = VectorAssembler(inputCols=['Apps','Accept','Enroll','Top10perc','Top25perc','F_Undergrad','P_Undergrad','Outstate',\n",
    "                'Room_Board','Books','Personal','PhD','Terminal','S_F_Ratio','perc_alumni','Expend','Grad_Rate'], outputCol='feature')\n",
    "#creating the new column with vector of required row data\n",
    "df = assembler.transform(df)"
   ]
  },
  {
   "cell_type": "code",
   "execution_count": 8,
   "id": "d57c8d97-0534-4ceb-8ef3-4448bdb80a45",
   "metadata": {},
   "outputs": [],
   "source": [
    "df = df.select(['feature','Private'])"
   ]
  },
  {
   "cell_type": "code",
   "execution_count": 9,
   "id": "2408a379-6b13-460e-a8af-9d6fb4cca1c9",
   "metadata": {},
   "outputs": [],
   "source": [
    "indexer = StringIndexer(inputCol='Private', outputCol='privateIndex')\n",
    "df = indexer.fit(df).transform(df)"
   ]
  },
  {
   "cell_type": "code",
   "execution_count": 10,
   "id": "114784f0-71d6-47d0-a7aa-151c3523f036",
   "metadata": {},
   "outputs": [],
   "source": [
    "# splitting the available data into train - test df\n",
    "train_df, test_df = df.randomSplit([0.7,0.3])"
   ]
  },
  {
   "cell_type": "code",
   "execution_count": 11,
   "id": "e41024ab-4e86-4973-9879-6786f94f6fb8",
   "metadata": {},
   "outputs": [],
   "source": [
    "#initializing the DecisionTreeClassifier, RandomForestClassifier, GBTClassifier object\n",
    "dt= DecisionTreeClassifier(featuresCol='feature', labelCol='privateIndex')\n",
    "rf = RandomForestClassifier(featuresCol='feature', labelCol='privateIndex')\n",
    "gbt = GBTClassifier(featuresCol='feature', labelCol='privateIndex',maxDepth=4)"
   ]
  },
  {
   "cell_type": "code",
   "execution_count": 12,
   "id": "56d1513d-e32c-4a53-ab06-7b408a9968f5",
   "metadata": {},
   "outputs": [
    {
     "name": "stderr",
     "output_type": "stream",
     "text": [
      "                                                                                \r"
     ]
    }
   ],
   "source": [
    "#fitting the model's on train data\n",
    "dtmodel = dt.fit(train_df)\n",
    "rfmodel = rf.fit(train_df)\n",
    "gbtmodel = gbt.fit(train_df)"
   ]
  },
  {
   "cell_type": "code",
   "execution_count": 13,
   "id": "99c603d5-caea-4b1a-8f67-83e3de91f9c8",
   "metadata": {},
   "outputs": [],
   "source": [
    "# transforming the test data\n",
    "dt_prediction = dtmodel.transform(test_df)\n",
    "rf_prediction = rfmodel.transform(test_df)\n",
    "gbt_prediction = gbtmodel.transform(test_df)"
   ]
  },
  {
   "cell_type": "code",
   "execution_count": 14,
   "id": "008f68a2-cfc3-4ee6-8eec-3ef4b212a4be",
   "metadata": {},
   "outputs": [
    {
     "name": "stdout",
     "output_type": "stream",
     "text": [
      "root\n",
      " |-- feature: vector (nullable = true)\n",
      " |-- Private: string (nullable = true)\n",
      " |-- privateIndex: double (nullable = false)\n",
      " |-- rawPrediction: vector (nullable = true)\n",
      " |-- probability: vector (nullable = true)\n",
      " |-- prediction: double (nullable = false)\n",
      "\n"
     ]
    }
   ],
   "source": [
    "gbt_prediction.printSchema()"
   ]
  },
  {
   "cell_type": "code",
   "execution_count": 15,
   "id": "569eab41-fcd1-4ca4-8603-324e4a531e54",
   "metadata": {},
   "outputs": [],
   "source": [
    "#initializing the evaluator to understand the acc of the model\n",
    "evaluator = MulticlassClassificationEvaluator(predictionCol='prediction',labelCol='privateIndex',metricName='accuracy')"
   ]
  },
  {
   "cell_type": "code",
   "execution_count": 16,
   "id": "cc40ae03-86ed-4d74-8780-3b53948178a9",
   "metadata": {},
   "outputs": [
    {
     "name": "stdout",
     "output_type": "stream",
     "text": [
      "A single decision tree had an accuracy of: 0.9380165289256198\n",
      "A random forest ensemble had an accuracy of: 0.9462809917355371\n",
      "A ensemble using GBT had an accuracy of: 0.9297520661157025\n"
     ]
    },
    {
     "name": "stderr",
     "output_type": "stream",
     "text": [
      "23/11/27 10:17:05 WARN InstanceBuilder: Failed to load implementation from:dev.ludovic.netlib.blas.JNIBLAS\n"
     ]
    }
   ],
   "source": [
    "print(f\"A single decision tree had an accuracy of: {evaluator.evaluate(dt_prediction)}\")\n",
    "print(f\"A random forest ensemble had an accuracy of: {evaluator.evaluate(rf_prediction)}\")\n",
    "print(f\"A ensemble using GBT had an accuracy of: {evaluator.evaluate(gbt_prediction)}\")"
   ]
  },
  {
   "cell_type": "code",
   "execution_count": null,
   "id": "a3445d45-8042-4d65-ad83-66db31ca6601",
   "metadata": {},
   "outputs": [],
   "source": []
  }
 ],
 "metadata": {
  "kernelspec": {
   "display_name": "Python 3 (ipykernel)",
   "language": "python",
   "name": "python3"
  },
  "language_info": {
   "codemirror_mode": {
    "name": "ipython",
    "version": 3
   },
   "file_extension": ".py",
   "mimetype": "text/x-python",
   "name": "python",
   "nbconvert_exporter": "python",
   "pygments_lexer": "ipython3",
   "version": "3.10.12"
  }
 },
 "nbformat": 4,
 "nbformat_minor": 5
}
